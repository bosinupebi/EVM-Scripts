{
 "cells": [
  {
   "cell_type": "code",
   "execution_count": 1,
   "metadata": {},
   "outputs": [
    {
     "name": "stdout",
     "output_type": "stream",
     "text": [
      "na\n",
      "na\n",
      "na\n",
      "na\n",
      "na\n",
      "na\n",
      "Hash\n",
      "0xad741a16039b2a7d99dfbd5a60587f2e5e8d5679295961210496c4f6443651fe\n",
      "Details \n",
      "\n",
      "AttributeDict({'blockHash': None, 'blockNumber': None, 'from': '0x67155ea1cF895362CED6D2a08BB41a52ed4D9D4e', 'gas': 140122, 'gasPrice': 1100000000, 'hash': HexBytes('0xad741a16039b2a7d99dfbd5a60587f2e5e8d5679295961210496c4f6443651fe'), 'input': '0x9f50973e00000000000000000000000000000000000000004d12bd09744cc76cab0d45b8000000000000000000000000000000000000000000000000000000000000008000000000000000000000000067155ea1cf895362ced6d2a08bb41a52ed4d9d4e0000000000000000000000000000000000000000000000000000000063814d7b000000000000000000000000000000000000000000000000000000000000000200000000000000000000000082a618305706b14e7bcf2592d4b9324a366b6dad0000000000000000000000001fdc495289b590e78d455cf7faa6cd804de5cbc1', 'nonce': 47, 'to': '0xEcBcF5C7aF4c323947CFE982940BA7c9fd207e2b', 'transactionIndex': None, 'value': 300491206591235033, 'type': '0x0', 'v': 158, 'r': HexBytes('0xd0a62f96cd2992aa014494549ae5d40e47ba3468e32c930406bd8f45e61d2ffb'), 's': HexBytes('0x5adba80a208ea5c9f3b1a22ad57ffee1d956d67bd28af320e96ba26f7128d509')})\n",
      "function called \n",
      "\n",
      "(<Function swapExactETCForTokens(uint256,address[],address,uint256)>, {'amountOutMin': 23852999122662884919454025144, 'path': ['0x82A618305706B14e7bcf2592D4B9324A366b6dAd', '0x1FDc495289B590e78d455cf7faa6cd804de5Cbc1'], 'to': '0x67155ea1cF895362CED6D2a08BB41a52ed4D9D4e', 'deadline': 1669418363})\n"
     ]
    }
   ],
   "source": [
    "import json\n",
    "from web3 import Web3\n",
    "import asyncio\n",
    "import requests\n",
    "import websocket\n",
    "import time\n",
    "import threading\n",
    "\n",
    "wss = \"ws://ethercluster.com/ws\"\n",
    "link = Web3(Web3.WebsocketProvider(wss))\n",
    "router = link.toChecksumAddress('0xEcBcF5C7aF4c323947CFE982940BA7c9fd207e2b')\n",
    "router_abi = json.loads('[{\"type\":\"constructor\",\"stateMutability\":\"nonpayable\",\"inputs\":[{\"type\":\"address\",\"name\":\"_factory\",\"internalType\":\"address\"},{\"type\":\"address\",\"name\":\"_WETC\",\"internalType\":\"address\"}]},{\"type\":\"function\",\"stateMutability\":\"view\",\"outputs\":[{\"type\":\"address\",\"name\":\"\",\"internalType\":\"address\"}],\"name\":\"WETC\",\"inputs\":[]},{\"type\":\"function\",\"stateMutability\":\"nonpayable\",\"outputs\":[{\"type\":\"uint256\",\"name\":\"amountA\",\"internalType\":\"uint256\"},{\"type\":\"uint256\",\"name\":\"amountB\",\"internalType\":\"uint256\"},{\"type\":\"uint256\",\"name\":\"liquidity\",\"internalType\":\"uint256\"}],\"name\":\"addLiquidity\",\"inputs\":[{\"type\":\"address\",\"name\":\"tokenA\",\"internalType\":\"address\"},{\"type\":\"address\",\"name\":\"tokenB\",\"internalType\":\"address\"},{\"type\":\"uint256\",\"name\":\"amountADesired\",\"internalType\":\"uint256\"},{\"type\":\"uint256\",\"name\":\"amountBDesired\",\"internalType\":\"uint256\"},{\"type\":\"uint256\",\"name\":\"amountAMin\",\"internalType\":\"uint256\"},{\"type\":\"uint256\",\"name\":\"amountBMin\",\"internalType\":\"uint256\"},{\"type\":\"address\",\"name\":\"to\",\"internalType\":\"address\"},{\"type\":\"uint256\",\"name\":\"deadline\",\"internalType\":\"uint256\"}]},{\"type\":\"function\",\"stateMutability\":\"payable\",\"outputs\":[{\"type\":\"uint256\",\"name\":\"amountToken\",\"internalType\":\"uint256\"},{\"type\":\"uint256\",\"name\":\"amountETC\",\"internalType\":\"uint256\"},{\"type\":\"uint256\",\"name\":\"liquidity\",\"internalType\":\"uint256\"}],\"name\":\"addLiquidityETC\",\"inputs\":[{\"type\":\"address\",\"name\":\"token\",\"internalType\":\"address\"},{\"type\":\"uint256\",\"name\":\"amountTokenDesired\",\"internalType\":\"uint256\"},{\"type\":\"uint256\",\"name\":\"amountTokenMin\",\"internalType\":\"uint256\"},{\"type\":\"uint256\",\"name\":\"amountETCMin\",\"internalType\":\"uint256\"},{\"type\":\"address\",\"name\":\"to\",\"internalType\":\"address\"},{\"type\":\"uint256\",\"name\":\"deadline\",\"internalType\":\"uint256\"}]},{\"type\":\"function\",\"stateMutability\":\"view\",\"outputs\":[{\"type\":\"address\",\"name\":\"\",\"internalType\":\"address\"}],\"name\":\"factory\",\"inputs\":[]},{\"type\":\"function\",\"stateMutability\":\"pure\",\"outputs\":[{\"type\":\"uint256\",\"name\":\"amountIn\",\"internalType\":\"uint256\"}],\"name\":\"getAmountIn\",\"inputs\":[{\"type\":\"uint256\",\"name\":\"amountOut\",\"internalType\":\"uint256\"},{\"type\":\"uint256\",\"name\":\"reserveIn\",\"internalType\":\"uint256\"},{\"type\":\"uint256\",\"name\":\"reserveOut\",\"internalType\":\"uint256\"}]},{\"type\":\"function\",\"stateMutability\":\"pure\",\"outputs\":[{\"type\":\"uint256\",\"name\":\"amountOut\",\"internalType\":\"uint256\"}],\"name\":\"getAmountOut\",\"inputs\":[{\"type\":\"uint256\",\"name\":\"amountIn\",\"internalType\":\"uint256\"},{\"type\":\"uint256\",\"name\":\"reserveIn\",\"internalType\":\"uint256\"},{\"type\":\"uint256\",\"name\":\"reserveOut\",\"internalType\":\"uint256\"}]},{\"type\":\"function\",\"stateMutability\":\"view\",\"outputs\":[{\"type\":\"uint256[]\",\"name\":\"amounts\",\"internalType\":\"uint256[]\"}],\"name\":\"getAmountsIn\",\"inputs\":[{\"type\":\"uint256\",\"name\":\"amountOut\",\"internalType\":\"uint256\"},{\"type\":\"address[]\",\"name\":\"path\",\"internalType\":\"address[]\"}]},{\"type\":\"function\",\"stateMutability\":\"view\",\"outputs\":[{\"type\":\"uint256[]\",\"name\":\"amounts\",\"internalType\":\"uint256[]\"}],\"name\":\"getAmountsOut\",\"inputs\":[{\"type\":\"uint256\",\"name\":\"amountIn\",\"internalType\":\"uint256\"},{\"type\":\"address[]\",\"name\":\"path\",\"internalType\":\"address[]\"}]},{\"type\":\"function\",\"stateMutability\":\"pure\",\"outputs\":[{\"type\":\"uint256\",\"name\":\"amountB\",\"internalType\":\"uint256\"}],\"name\":\"quote\",\"inputs\":[{\"type\":\"uint256\",\"name\":\"amountA\",\"internalType\":\"uint256\"},{\"type\":\"uint256\",\"name\":\"reserveA\",\"internalType\":\"uint256\"},{\"type\":\"uint256\",\"name\":\"reserveB\",\"internalType\":\"uint256\"}]},{\"type\":\"function\",\"stateMutability\":\"nonpayable\",\"outputs\":[{\"type\":\"uint256\",\"name\":\"amountA\",\"internalType\":\"uint256\"},{\"type\":\"uint256\",\"name\":\"amountB\",\"internalType\":\"uint256\"}],\"name\":\"removeLiquidity\",\"inputs\":[{\"type\":\"address\",\"name\":\"tokenA\",\"internalType\":\"address\"},{\"type\":\"address\",\"name\":\"tokenB\",\"internalType\":\"address\"},{\"type\":\"uint256\",\"name\":\"liquidity\",\"internalType\":\"uint256\"},{\"type\":\"uint256\",\"name\":\"amountAMin\",\"internalType\":\"uint256\"},{\"type\":\"uint256\",\"name\":\"amountBMin\",\"internalType\":\"uint256\"},{\"type\":\"address\",\"name\":\"to\",\"internalType\":\"address\"},{\"type\":\"uint256\",\"name\":\"deadline\",\"internalType\":\"uint256\"}]},{\"type\":\"function\",\"stateMutability\":\"nonpayable\",\"outputs\":[{\"type\":\"uint256\",\"name\":\"amountToken\",\"internalType\":\"uint256\"},{\"type\":\"uint256\",\"name\":\"amountETC\",\"internalType\":\"uint256\"}],\"name\":\"removeLiquidityETC\",\"inputs\":[{\"type\":\"address\",\"name\":\"token\",\"internalType\":\"address\"},{\"type\":\"uint256\",\"name\":\"liquidity\",\"internalType\":\"uint256\"},{\"type\":\"uint256\",\"name\":\"amountTokenMin\",\"internalType\":\"uint256\"},{\"type\":\"uint256\",\"name\":\"amountETCMin\",\"internalType\":\"uint256\"},{\"type\":\"address\",\"name\":\"to\",\"internalType\":\"address\"},{\"type\":\"uint256\",\"name\":\"deadline\",\"internalType\":\"uint256\"}]},{\"type\":\"function\",\"stateMutability\":\"nonpayable\",\"outputs\":[{\"type\":\"uint256\",\"name\":\"amountETC\",\"internalType\":\"uint256\"}],\"name\":\"removeLiquidityETCSupportingFeeOnTransferTokens\",\"inputs\":[{\"type\":\"address\",\"name\":\"token\",\"internalType\":\"address\"},{\"type\":\"uint256\",\"name\":\"liquidity\",\"internalType\":\"uint256\"},{\"type\":\"uint256\",\"name\":\"amountTokenMin\",\"internalType\":\"uint256\"},{\"type\":\"uint256\",\"name\":\"amountETCMin\",\"internalType\":\"uint256\"},{\"type\":\"address\",\"name\":\"to\",\"internalType\":\"address\"},{\"type\":\"uint256\",\"name\":\"deadline\",\"internalType\":\"uint256\"}]},{\"type\":\"function\",\"stateMutability\":\"nonpayable\",\"outputs\":[{\"type\":\"uint256\",\"name\":\"amountToken\",\"internalType\":\"uint256\"},{\"type\":\"uint256\",\"name\":\"amountETC\",\"internalType\":\"uint256\"}],\"name\":\"removeLiquidityETCWithPermit\",\"inputs\":[{\"type\":\"address\",\"name\":\"token\",\"internalType\":\"address\"},{\"type\":\"uint256\",\"name\":\"liquidity\",\"internalType\":\"uint256\"},{\"type\":\"uint256\",\"name\":\"amountTokenMin\",\"internalType\":\"uint256\"},{\"type\":\"uint256\",\"name\":\"amountETCMin\",\"internalType\":\"uint256\"},{\"type\":\"address\",\"name\":\"to\",\"internalType\":\"address\"},{\"type\":\"uint256\",\"name\":\"deadline\",\"internalType\":\"uint256\"},{\"type\":\"bool\",\"name\":\"approveMax\",\"internalType\":\"bool\"},{\"type\":\"uint8\",\"name\":\"v\",\"internalType\":\"uint8\"},{\"type\":\"bytes32\",\"name\":\"r\",\"internalType\":\"bytes32\"},{\"type\":\"bytes32\",\"name\":\"s\",\"internalType\":\"bytes32\"}]},{\"type\":\"function\",\"stateMutability\":\"nonpayable\",\"outputs\":[{\"type\":\"uint256\",\"name\":\"amountETC\",\"internalType\":\"uint256\"}],\"name\":\"removeLiquidityETCWithPermitSupportingFeeOnTransferTokens\",\"inputs\":[{\"type\":\"address\",\"name\":\"token\",\"internalType\":\"address\"},{\"type\":\"uint256\",\"name\":\"liquidity\",\"internalType\":\"uint256\"},{\"type\":\"uint256\",\"name\":\"amountTokenMin\",\"internalType\":\"uint256\"},{\"type\":\"uint256\",\"name\":\"amountETCMin\",\"internalType\":\"uint256\"},{\"type\":\"address\",\"name\":\"to\",\"internalType\":\"address\"},{\"type\":\"uint256\",\"name\":\"deadline\",\"internalType\":\"uint256\"},{\"type\":\"bool\",\"name\":\"approveMax\",\"internalType\":\"bool\"},{\"type\":\"uint8\",\"name\":\"v\",\"internalType\":\"uint8\"},{\"type\":\"bytes32\",\"name\":\"r\",\"internalType\":\"bytes32\"},{\"type\":\"bytes32\",\"name\":\"s\",\"internalType\":\"bytes32\"}]},{\"type\":\"function\",\"stateMutability\":\"nonpayable\",\"outputs\":[{\"type\":\"uint256\",\"name\":\"amountA\",\"internalType\":\"uint256\"},{\"type\":\"uint256\",\"name\":\"amountB\",\"internalType\":\"uint256\"}],\"name\":\"removeLiquidityWithPermit\",\"inputs\":[{\"type\":\"address\",\"name\":\"tokenA\",\"internalType\":\"address\"},{\"type\":\"address\",\"name\":\"tokenB\",\"internalType\":\"address\"},{\"type\":\"uint256\",\"name\":\"liquidity\",\"internalType\":\"uint256\"},{\"type\":\"uint256\",\"name\":\"amountAMin\",\"internalType\":\"uint256\"},{\"type\":\"uint256\",\"name\":\"amountBMin\",\"internalType\":\"uint256\"},{\"type\":\"address\",\"name\":\"to\",\"internalType\":\"address\"},{\"type\":\"uint256\",\"name\":\"deadline\",\"internalType\":\"uint256\"},{\"type\":\"bool\",\"name\":\"approveMax\",\"internalType\":\"bool\"},{\"type\":\"uint8\",\"name\":\"v\",\"internalType\":\"uint8\"},{\"type\":\"bytes32\",\"name\":\"r\",\"internalType\":\"bytes32\"},{\"type\":\"bytes32\",\"name\":\"s\",\"internalType\":\"bytes32\"}]},{\"type\":\"function\",\"stateMutability\":\"payable\",\"outputs\":[{\"type\":\"uint256[]\",\"name\":\"amounts\",\"internalType\":\"uint256[]\"}],\"name\":\"swapETCForExactTokens\",\"inputs\":[{\"type\":\"uint256\",\"name\":\"amountOut\",\"internalType\":\"uint256\"},{\"type\":\"address[]\",\"name\":\"path\",\"internalType\":\"address[]\"},{\"type\":\"address\",\"name\":\"to\",\"internalType\":\"address\"},{\"type\":\"uint256\",\"name\":\"deadline\",\"internalType\":\"uint256\"}]},{\"type\":\"function\",\"stateMutability\":\"payable\",\"outputs\":[{\"type\":\"uint256[]\",\"name\":\"amounts\",\"internalType\":\"uint256[]\"}],\"name\":\"swapExactETCForTokens\",\"inputs\":[{\"type\":\"uint256\",\"name\":\"amountOutMin\",\"internalType\":\"uint256\"},{\"type\":\"address[]\",\"name\":\"path\",\"internalType\":\"address[]\"},{\"type\":\"address\",\"name\":\"to\",\"internalType\":\"address\"},{\"type\":\"uint256\",\"name\":\"deadline\",\"internalType\":\"uint256\"}]},{\"type\":\"function\",\"stateMutability\":\"payable\",\"outputs\":[],\"name\":\"swapExactETCForTokensSupportingFeeOnTransferTokens\",\"inputs\":[{\"type\":\"uint256\",\"name\":\"amountOutMin\",\"internalType\":\"uint256\"},{\"type\":\"address[]\",\"name\":\"path\",\"internalType\":\"address[]\"},{\"type\":\"address\",\"name\":\"to\",\"internalType\":\"address\"},{\"type\":\"uint256\",\"name\":\"deadline\",\"internalType\":\"uint256\"}]},{\"type\":\"function\",\"stateMutability\":\"nonpayable\",\"outputs\":[{\"type\":\"uint256[]\",\"name\":\"amounts\",\"internalType\":\"uint256[]\"}],\"name\":\"swapExactTokensForETC\",\"inputs\":[{\"type\":\"uint256\",\"name\":\"amountIn\",\"internalType\":\"uint256\"},{\"type\":\"uint256\",\"name\":\"amountOutMin\",\"internalType\":\"uint256\"},{\"type\":\"address[]\",\"name\":\"path\",\"internalType\":\"address[]\"},{\"type\":\"address\",\"name\":\"to\",\"internalType\":\"address\"},{\"type\":\"uint256\",\"name\":\"deadline\",\"internalType\":\"uint256\"}]},{\"type\":\"function\",\"stateMutability\":\"nonpayable\",\"outputs\":[],\"name\":\"swapExactTokensForETCSupportingFeeOnTransferTokens\",\"inputs\":[{\"type\":\"uint256\",\"name\":\"amountIn\",\"internalType\":\"uint256\"},{\"type\":\"uint256\",\"name\":\"amountOutMin\",\"internalType\":\"uint256\"},{\"type\":\"address[]\",\"name\":\"path\",\"internalType\":\"address[]\"},{\"type\":\"address\",\"name\":\"to\",\"internalType\":\"address\"},{\"type\":\"uint256\",\"name\":\"deadline\",\"internalType\":\"uint256\"}]},{\"type\":\"function\",\"stateMutability\":\"nonpayable\",\"outputs\":[{\"type\":\"uint256[]\",\"name\":\"amounts\",\"internalType\":\"uint256[]\"}],\"name\":\"swapExactTokensForTokens\",\"inputs\":[{\"type\":\"uint256\",\"name\":\"amountIn\",\"internalType\":\"uint256\"},{\"type\":\"uint256\",\"name\":\"amountOutMin\",\"internalType\":\"uint256\"},{\"type\":\"address[]\",\"name\":\"path\",\"internalType\":\"address[]\"},{\"type\":\"address\",\"name\":\"to\",\"internalType\":\"address\"},{\"type\":\"uint256\",\"name\":\"deadline\",\"internalType\":\"uint256\"}]},{\"type\":\"function\",\"stateMutability\":\"nonpayable\",\"outputs\":[],\"name\":\"swapExactTokensForTokensSupportingFeeOnTransferTokens\",\"inputs\":[{\"type\":\"uint256\",\"name\":\"amountIn\",\"internalType\":\"uint256\"},{\"type\":\"uint256\",\"name\":\"amountOutMin\",\"internalType\":\"uint256\"},{\"type\":\"address[]\",\"name\":\"path\",\"internalType\":\"address[]\"},{\"type\":\"address\",\"name\":\"to\",\"internalType\":\"address\"},{\"type\":\"uint256\",\"name\":\"deadline\",\"internalType\":\"uint256\"}]},{\"type\":\"function\",\"stateMutability\":\"nonpayable\",\"outputs\":[{\"type\":\"uint256[]\",\"name\":\"amounts\",\"internalType\":\"uint256[]\"}],\"name\":\"swapTokensForExactETC\",\"inputs\":[{\"type\":\"uint256\",\"name\":\"amountOut\",\"internalType\":\"uint256\"},{\"type\":\"uint256\",\"name\":\"amountInMax\",\"internalType\":\"uint256\"},{\"type\":\"address[]\",\"name\":\"path\",\"internalType\":\"address[]\"},{\"type\":\"address\",\"name\":\"to\",\"internalType\":\"address\"},{\"type\":\"uint256\",\"name\":\"deadline\",\"internalType\":\"uint256\"}]},{\"type\":\"function\",\"stateMutability\":\"nonpayable\",\"outputs\":[{\"type\":\"uint256[]\",\"name\":\"amounts\",\"internalType\":\"uint256[]\"}],\"name\":\"swapTokensForExactTokens\",\"inputs\":[{\"type\":\"uint256\",\"name\":\"amountOut\",\"internalType\":\"uint256\"},{\"type\":\"uint256\",\"name\":\"amountInMax\",\"internalType\":\"uint256\"},{\"type\":\"address[]\",\"name\":\"path\",\"internalType\":\"address[]\"},{\"type\":\"address\",\"name\":\"to\",\"internalType\":\"address\"},{\"type\":\"uint256\",\"name\":\"deadline\",\"internalType\":\"uint256\"}]},{\"type\":\"receive\",\"stateMutability\":\"payable\"}]')\n",
    "\n",
    "router_contract = link.eth.contract(address=router, abi=router_abi)\n",
    "\n",
    "def handle_event(event):\n",
    "    transactiondetails = link.eth.get_transaction(event)\n",
    "    to = transactiondetails['to']\n",
    "    input_data = transactiondetails['input']\n",
    "    if to == router:\n",
    "        decode = router_contract.decode_function_input(input_data)\n",
    "        print('Hash')\n",
    "        print(link.toHex(event))\n",
    "        print('Details')\n",
    "        print(transactiondetails)\n",
    "        print('function called')\n",
    "        print(decode)\n",
    "    else:\n",
    "        print ('na')\n",
    "\n",
    "\n",
    "async def log_loop(event_filter, poll_interval):\n",
    "    while True:\n",
    "        for event in event_filter.get_new_entries():\n",
    "            handle_event(event)\n",
    "        await asyncio.sleep(poll_interval)\n",
    "\n",
    "def main():\n",
    "\n",
    "    #block_filter = link.eth.filter('latest')\n",
    "    tx_filter = link.eth.filter('pending')\n",
    "    loop = asyncio.get_event_loop()\n",
    "    asyncio.gather(\n",
    "                log_loop(tx_filter, 0.5))\n",
    "\n",
    "   \n",
    "\n",
    "\n",
    "if __name__ == '__main__':\n",
    "    main()"
   ]
  }
 ],
 "metadata": {
  "kernelspec": {
   "display_name": "Python 3.10.8 64-bit",
   "language": "python",
   "name": "python3"
  },
  "language_info": {
   "codemirror_mode": {
    "name": "ipython",
    "version": 3
   },
   "file_extension": ".py",
   "mimetype": "text/x-python",
   "name": "python",
   "nbconvert_exporter": "python",
   "pygments_lexer": "ipython3",
   "version": "3.10.8"
  },
  "orig_nbformat": 4,
  "vscode": {
   "interpreter": {
    "hash": "b0fa6594d8f4cbf19f97940f81e996739fb7646882a419484c72d19e05852a7e"
   }
  }
 },
 "nbformat": 4,
 "nbformat_minor": 2
}
