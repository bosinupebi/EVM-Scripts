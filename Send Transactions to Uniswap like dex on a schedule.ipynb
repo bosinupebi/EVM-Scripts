{
 "cells": [
  {
   "cell_type": "code",
   "execution_count": null,
   "metadata": {},
   "outputs": [],
   "source": [
    "import json\n",
    "from web3 import Web3\n",
    "import time\n",
    "import schedule\n",
    "\n",
    "\n",
    "def DCA():\n",
    "    RPC_url = 'https://www.ethercluster.com/etc'\n",
    "    web3 = Web3(Web3.HTTPProvider(RPC_url))\n",
    "    private_key = ''\n",
    "    # uniswapv2like_Factory\n",
    "    factory_abi = json.loads('[{\"type\":\"constructor\",\"stateMutability\":\"nonpayable\",\"inputs\":[{\"type\":\"address\",\"name\":\"_factory\",\"internalType\":\"address\"},{\"type\":\"address\",\"name\":\"_WETC\",\"internalType\":\"address\"}]},{\"type\":\"function\",\"stateMutability\":\"view\",\"outputs\":[{\"type\":\"address\",\"name\":\"\",\"internalType\":\"address\"}],\"name\":\"WETC\",\"inputs\":[]},{\"type\":\"function\",\"stateMutability\":\"nonpayable\",\"outputs\":[{\"type\":\"uint256\",\"name\":\"amountA\",\"internalType\":\"uint256\"},{\"type\":\"uint256\",\"name\":\"amountB\",\"internalType\":\"uint256\"},{\"type\":\"uint256\",\"name\":\"liquidity\",\"internalType\":\"uint256\"}],\"name\":\"addLiquidity\",\"inputs\":[{\"type\":\"address\",\"name\":\"tokenA\",\"internalType\":\"address\"},{\"type\":\"address\",\"name\":\"tokenB\",\"internalType\":\"address\"},{\"type\":\"uint256\",\"name\":\"amountADesired\",\"internalType\":\"uint256\"},{\"type\":\"uint256\",\"name\":\"amountBDesired\",\"internalType\":\"uint256\"},{\"type\":\"uint256\",\"name\":\"amountAMin\",\"internalType\":\"uint256\"},{\"type\":\"uint256\",\"name\":\"amountBMin\",\"internalType\":\"uint256\"},{\"type\":\"address\",\"name\":\"to\",\"internalType\":\"address\"},{\"type\":\"uint256\",\"name\":\"deadline\",\"internalType\":\"uint256\"}]},{\"type\":\"function\",\"stateMutability\":\"payable\",\"outputs\":[{\"type\":\"uint256\",\"name\":\"amountToken\",\"internalType\":\"uint256\"},{\"type\":\"uint256\",\"name\":\"amountETC\",\"internalType\":\"uint256\"},{\"type\":\"uint256\",\"name\":\"liquidity\",\"internalType\":\"uint256\"}],\"name\":\"addLiquidityETC\",\"inputs\":[{\"type\":\"address\",\"name\":\"token\",\"internalType\":\"address\"},{\"type\":\"uint256\",\"name\":\"amountTokenDesired\",\"internalType\":\"uint256\"},{\"type\":\"uint256\",\"name\":\"amountTokenMin\",\"internalType\":\"uint256\"},{\"type\":\"uint256\",\"name\":\"amountETCMin\",\"internalType\":\"uint256\"},{\"type\":\"address\",\"name\":\"to\",\"internalType\":\"address\"},{\"type\":\"uint256\",\"name\":\"deadline\",\"internalType\":\"uint256\"}]},{\"type\":\"function\",\"stateMutability\":\"view\",\"outputs\":[{\"type\":\"address\",\"name\":\"\",\"internalType\":\"address\"}],\"name\":\"factory\",\"inputs\":[]},{\"type\":\"function\",\"stateMutability\":\"pure\",\"outputs\":[{\"type\":\"uint256\",\"name\":\"amountIn\",\"internalType\":\"uint256\"}],\"name\":\"getAmountIn\",\"inputs\":[{\"type\":\"uint256\",\"name\":\"amountOut\",\"internalType\":\"uint256\"},{\"type\":\"uint256\",\"name\":\"reserveIn\",\"internalType\":\"uint256\"},{\"type\":\"uint256\",\"name\":\"reserveOut\",\"internalType\":\"uint256\"}]},{\"type\":\"function\",\"stateMutability\":\"pure\",\"outputs\":[{\"type\":\"uint256\",\"name\":\"amountOut\",\"internalType\":\"uint256\"}],\"name\":\"getAmountOut\",\"inputs\":[{\"type\":\"uint256\",\"name\":\"amountIn\",\"internalType\":\"uint256\"},{\"type\":\"uint256\",\"name\":\"reserveIn\",\"internalType\":\"uint256\"},{\"type\":\"uint256\",\"name\":\"reserveOut\",\"internalType\":\"uint256\"}]},{\"type\":\"function\",\"stateMutability\":\"view\",\"outputs\":[{\"type\":\"uint256[]\",\"name\":\"amounts\",\"internalType\":\"uint256[]\"}],\"name\":\"getAmountsIn\",\"inputs\":[{\"type\":\"uint256\",\"name\":\"amountOut\",\"internalType\":\"uint256\"},{\"type\":\"address[]\",\"name\":\"path\",\"internalType\":\"address[]\"}]},{\"type\":\"function\",\"stateMutability\":\"view\",\"outputs\":[{\"type\":\"uint256[]\",\"name\":\"amounts\",\"internalType\":\"uint256[]\"}],\"name\":\"getAmountsOut\",\"inputs\":[{\"type\":\"uint256\",\"name\":\"amountIn\",\"internalType\":\"uint256\"},{\"type\":\"address[]\",\"name\":\"path\",\"internalType\":\"address[]\"}]},{\"type\":\"function\",\"stateMutability\":\"pure\",\"outputs\":[{\"type\":\"uint256\",\"name\":\"amountB\",\"internalType\":\"uint256\"}],\"name\":\"quote\",\"inputs\":[{\"type\":\"uint256\",\"name\":\"amountA\",\"internalType\":\"uint256\"},{\"type\":\"uint256\",\"name\":\"reserveA\",\"internalType\":\"uint256\"},{\"type\":\"uint256\",\"name\":\"reserveB\",\"internalType\":\"uint256\"}]},{\"type\":\"function\",\"stateMutability\":\"nonpayable\",\"outputs\":[{\"type\":\"uint256\",\"name\":\"amountA\",\"internalType\":\"uint256\"},{\"type\":\"uint256\",\"name\":\"amountB\",\"internalType\":\"uint256\"}],\"name\":\"removeLiquidity\",\"inputs\":[{\"type\":\"address\",\"name\":\"tokenA\",\"internalType\":\"address\"},{\"type\":\"address\",\"name\":\"tokenB\",\"internalType\":\"address\"},{\"type\":\"uint256\",\"name\":\"liquidity\",\"internalType\":\"uint256\"},{\"type\":\"uint256\",\"name\":\"amountAMin\",\"internalType\":\"uint256\"},{\"type\":\"uint256\",\"name\":\"amountBMin\",\"internalType\":\"uint256\"},{\"type\":\"address\",\"name\":\"to\",\"internalType\":\"address\"},{\"type\":\"uint256\",\"name\":\"deadline\",\"internalType\":\"uint256\"}]},{\"type\":\"function\",\"stateMutability\":\"nonpayable\",\"outputs\":[{\"type\":\"uint256\",\"name\":\"amountToken\",\"internalType\":\"uint256\"},{\"type\":\"uint256\",\"name\":\"amountETC\",\"internalType\":\"uint256\"}],\"name\":\"removeLiquidityETC\",\"inputs\":[{\"type\":\"address\",\"name\":\"token\",\"internalType\":\"address\"},{\"type\":\"uint256\",\"name\":\"liquidity\",\"internalType\":\"uint256\"},{\"type\":\"uint256\",\"name\":\"amountTokenMin\",\"internalType\":\"uint256\"},{\"type\":\"uint256\",\"name\":\"amountETCMin\",\"internalType\":\"uint256\"},{\"type\":\"address\",\"name\":\"to\",\"internalType\":\"address\"},{\"type\":\"uint256\",\"name\":\"deadline\",\"internalType\":\"uint256\"}]},{\"type\":\"function\",\"stateMutability\":\"nonpayable\",\"outputs\":[{\"type\":\"uint256\",\"name\":\"amountETC\",\"internalType\":\"uint256\"}],\"name\":\"removeLiquidityETCSupportingFeeOnTransferTokens\",\"inputs\":[{\"type\":\"address\",\"name\":\"token\",\"internalType\":\"address\"},{\"type\":\"uint256\",\"name\":\"liquidity\",\"internalType\":\"uint256\"},{\"type\":\"uint256\",\"name\":\"amountTokenMin\",\"internalType\":\"uint256\"},{\"type\":\"uint256\",\"name\":\"amountETCMin\",\"internalType\":\"uint256\"},{\"type\":\"address\",\"name\":\"to\",\"internalType\":\"address\"},{\"type\":\"uint256\",\"name\":\"deadline\",\"internalType\":\"uint256\"}]},{\"type\":\"function\",\"stateMutability\":\"nonpayable\",\"outputs\":[{\"type\":\"uint256\",\"name\":\"amountToken\",\"internalType\":\"uint256\"},{\"type\":\"uint256\",\"name\":\"amountETC\",\"internalType\":\"uint256\"}],\"name\":\"removeLiquidityETCWithPermit\",\"inputs\":[{\"type\":\"address\",\"name\":\"token\",\"internalType\":\"address\"},{\"type\":\"uint256\",\"name\":\"liquidity\",\"internalType\":\"uint256\"},{\"type\":\"uint256\",\"name\":\"amountTokenMin\",\"internalType\":\"uint256\"},{\"type\":\"uint256\",\"name\":\"amountETCMin\",\"internalType\":\"uint256\"},{\"type\":\"address\",\"name\":\"to\",\"internalType\":\"address\"},{\"type\":\"uint256\",\"name\":\"deadline\",\"internalType\":\"uint256\"},{\"type\":\"bool\",\"name\":\"approveMax\",\"internalType\":\"bool\"},{\"type\":\"uint8\",\"name\":\"v\",\"internalType\":\"uint8\"},{\"type\":\"bytes32\",\"name\":\"r\",\"internalType\":\"bytes32\"},{\"type\":\"bytes32\",\"name\":\"s\",\"internalType\":\"bytes32\"}]},{\"type\":\"function\",\"stateMutability\":\"nonpayable\",\"outputs\":[{\"type\":\"uint256\",\"name\":\"amountETC\",\"internalType\":\"uint256\"}],\"name\":\"removeLiquidityETCWithPermitSupportingFeeOnTransferTokens\",\"inputs\":[{\"type\":\"address\",\"name\":\"token\",\"internalType\":\"address\"},{\"type\":\"uint256\",\"name\":\"liquidity\",\"internalType\":\"uint256\"},{\"type\":\"uint256\",\"name\":\"amountTokenMin\",\"internalType\":\"uint256\"},{\"type\":\"uint256\",\"name\":\"amountETCMin\",\"internalType\":\"uint256\"},{\"type\":\"address\",\"name\":\"to\",\"internalType\":\"address\"},{\"type\":\"uint256\",\"name\":\"deadline\",\"internalType\":\"uint256\"},{\"type\":\"bool\",\"name\":\"approveMax\",\"internalType\":\"bool\"},{\"type\":\"uint8\",\"name\":\"v\",\"internalType\":\"uint8\"},{\"type\":\"bytes32\",\"name\":\"r\",\"internalType\":\"bytes32\"},{\"type\":\"bytes32\",\"name\":\"s\",\"internalType\":\"bytes32\"}]},{\"type\":\"function\",\"stateMutability\":\"nonpayable\",\"outputs\":[{\"type\":\"uint256\",\"name\":\"amountA\",\"internalType\":\"uint256\"},{\"type\":\"uint256\",\"name\":\"amountB\",\"internalType\":\"uint256\"}],\"name\":\"removeLiquidityWithPermit\",\"inputs\":[{\"type\":\"address\",\"name\":\"tokenA\",\"internalType\":\"address\"},{\"type\":\"address\",\"name\":\"tokenB\",\"internalType\":\"address\"},{\"type\":\"uint256\",\"name\":\"liquidity\",\"internalType\":\"uint256\"},{\"type\":\"uint256\",\"name\":\"amountAMin\",\"internalType\":\"uint256\"},{\"type\":\"uint256\",\"name\":\"amountBMin\",\"internalType\":\"uint256\"},{\"type\":\"address\",\"name\":\"to\",\"internalType\":\"address\"},{\"type\":\"uint256\",\"name\":\"deadline\",\"internalType\":\"uint256\"},{\"type\":\"bool\",\"name\":\"approveMax\",\"internalType\":\"bool\"},{\"type\":\"uint8\",\"name\":\"v\",\"internalType\":\"uint8\"},{\"type\":\"bytes32\",\"name\":\"r\",\"internalType\":\"bytes32\"},{\"type\":\"bytes32\",\"name\":\"s\",\"internalType\":\"bytes32\"}]},{\"type\":\"function\",\"stateMutability\":\"payable\",\"outputs\":[{\"type\":\"uint256[]\",\"name\":\"amounts\",\"internalType\":\"uint256[]\"}],\"name\":\"swapETCForExactTokens\",\"inputs\":[{\"type\":\"uint256\",\"name\":\"amountOut\",\"internalType\":\"uint256\"},{\"type\":\"address[]\",\"name\":\"path\",\"internalType\":\"address[]\"},{\"type\":\"address\",\"name\":\"to\",\"internalType\":\"address\"},{\"type\":\"uint256\",\"name\":\"deadline\",\"internalType\":\"uint256\"}]},{\"type\":\"function\",\"stateMutability\":\"payable\",\"outputs\":[{\"type\":\"uint256[]\",\"name\":\"amounts\",\"internalType\":\"uint256[]\"}],\"name\":\"swapExactETCForTokens\",\"inputs\":[{\"type\":\"uint256\",\"name\":\"amountOutMin\",\"internalType\":\"uint256\"},{\"type\":\"address[]\",\"name\":\"path\",\"internalType\":\"address[]\"},{\"type\":\"address\",\"name\":\"to\",\"internalType\":\"address\"},{\"type\":\"uint256\",\"name\":\"deadline\",\"internalType\":\"uint256\"}]},{\"type\":\"function\",\"stateMutability\":\"payable\",\"outputs\":[],\"name\":\"swapExactETCForTokensSupportingFeeOnTransferTokens\",\"inputs\":[{\"type\":\"uint256\",\"name\":\"amountOutMin\",\"internalType\":\"uint256\"},{\"type\":\"address[]\",\"name\":\"path\",\"internalType\":\"address[]\"},{\"type\":\"address\",\"name\":\"to\",\"internalType\":\"address\"},{\"type\":\"uint256\",\"name\":\"deadline\",\"internalType\":\"uint256\"}]},{\"type\":\"function\",\"stateMutability\":\"nonpayable\",\"outputs\":[{\"type\":\"uint256[]\",\"name\":\"amounts\",\"internalType\":\"uint256[]\"}],\"name\":\"swapExactTokensForETC\",\"inputs\":[{\"type\":\"uint256\",\"name\":\"amountIn\",\"internalType\":\"uint256\"},{\"type\":\"uint256\",\"name\":\"amountOutMin\",\"internalType\":\"uint256\"},{\"type\":\"address[]\",\"name\":\"path\",\"internalType\":\"address[]\"},{\"type\":\"address\",\"name\":\"to\",\"internalType\":\"address\"},{\"type\":\"uint256\",\"name\":\"deadline\",\"internalType\":\"uint256\"}]},{\"type\":\"function\",\"stateMutability\":\"nonpayable\",\"outputs\":[],\"name\":\"swapExactTokensForETCSupportingFeeOnTransferTokens\",\"inputs\":[{\"type\":\"uint256\",\"name\":\"amountIn\",\"internalType\":\"uint256\"},{\"type\":\"uint256\",\"name\":\"amountOutMin\",\"internalType\":\"uint256\"},{\"type\":\"address[]\",\"name\":\"path\",\"internalType\":\"address[]\"},{\"type\":\"address\",\"name\":\"to\",\"internalType\":\"address\"},{\"type\":\"uint256\",\"name\":\"deadline\",\"internalType\":\"uint256\"}]},{\"type\":\"function\",\"stateMutability\":\"nonpayable\",\"outputs\":[{\"type\":\"uint256[]\",\"name\":\"amounts\",\"internalType\":\"uint256[]\"}],\"name\":\"swapExactTokensForTokens\",\"inputs\":[{\"type\":\"uint256\",\"name\":\"amountIn\",\"internalType\":\"uint256\"},{\"type\":\"uint256\",\"name\":\"amountOutMin\",\"internalType\":\"uint256\"},{\"type\":\"address[]\",\"name\":\"path\",\"internalType\":\"address[]\"},{\"type\":\"address\",\"name\":\"to\",\"internalType\":\"address\"},{\"type\":\"uint256\",\"name\":\"deadline\",\"internalType\":\"uint256\"}]},{\"type\":\"function\",\"stateMutability\":\"nonpayable\",\"outputs\":[],\"name\":\"swapExactTokensForTokensSupportingFeeOnTransferTokens\",\"inputs\":[{\"type\":\"uint256\",\"name\":\"amountIn\",\"internalType\":\"uint256\"},{\"type\":\"uint256\",\"name\":\"amountOutMin\",\"internalType\":\"uint256\"},{\"type\":\"address[]\",\"name\":\"path\",\"internalType\":\"address[]\"},{\"type\":\"address\",\"name\":\"to\",\"internalType\":\"address\"},{\"type\":\"uint256\",\"name\":\"deadline\",\"internalType\":\"uint256\"}]},{\"type\":\"function\",\"stateMutability\":\"nonpayable\",\"outputs\":[{\"type\":\"uint256[]\",\"name\":\"amounts\",\"internalType\":\"uint256[]\"}],\"name\":\"swapTokensForExactETC\",\"inputs\":[{\"type\":\"uint256\",\"name\":\"amountOut\",\"internalType\":\"uint256\"},{\"type\":\"uint256\",\"name\":\"amountInMax\",\"internalType\":\"uint256\"},{\"type\":\"address[]\",\"name\":\"path\",\"internalType\":\"address[]\"},{\"type\":\"address\",\"name\":\"to\",\"internalType\":\"address\"},{\"type\":\"uint256\",\"name\":\"deadline\",\"internalType\":\"uint256\"}]},{\"type\":\"function\",\"stateMutability\":\"nonpayable\",\"outputs\":[{\"type\":\"uint256[]\",\"name\":\"amounts\",\"internalType\":\"uint256[]\"}],\"name\":\"swapTokensForExactTokens\",\"inputs\":[{\"type\":\"uint256\",\"name\":\"amountOut\",\"internalType\":\"uint256\"},{\"type\":\"uint256\",\"name\":\"amountInMax\",\"internalType\":\"uint256\"},{\"type\":\"address[]\",\"name\":\"path\",\"internalType\":\"address[]\"},{\"type\":\"address\",\"name\":\"to\",\"internalType\":\"address\"},{\"type\":\"uint256\",\"name\":\"deadline\",\"internalType\":\"uint256\"}]},{\"type\":\"receive\",\"stateMutability\":\"payable\"}]')\n",
    "    factory_address = '0xEcBcF5C7aF4c323947CFE982940BA7c9fd207e2b'\n",
    "    factory_contract = web3.eth.contract(address=factory_address, abi=factory_abi)\n",
    "\n",
    "    #getaquote for 1 etc\n",
    "    input_quantity_wei = 9600000000000000\n",
    "    #path of tokens to swap, first is WETC address, second is chosen erc\n",
    "    swap_path = ['0x82A618305706B14e7bcf2592D4B9324A366b6dAd','0xdA616532A458bC5B965B89D7d4cb50C7B9E30347']\n",
    "    factory_contract.functions.getAmountsOut(input_quantity_wei ,swap_path).call()\n",
    "\n",
    "    account_address = Web3.toChecksumAddress('0xfc52d84932d02e67a76142a2613f9fb63d3b996c')\n",
    "    input_quantity_wei = 1000000000000000000\n",
    "    minimum_output_quantity_wei = 997000000000000000\n",
    "    deadline = 1665590433\n",
    "    swap = factory_contract.functions.swapExactTokensForETC(\n",
    "    input_quantity_wei,\n",
    "    minimum_output_quantity_wei,\n",
    "    swap_path,\n",
    "    account_address,\n",
    "    deadline\n",
    "    )\n",
    "    tx = swap.buildTransaction({\n",
    "    'from': account_address,\n",
    "    'nonce': web3.eth.getTransactionCount(account_address),\n",
    "    'gasPrice': Web3.toWei('30', 'gwei'),\n",
    "    })\n",
    "    signed_tx = web3.eth.account.signTransaction(tx, 'private key goes here')\n",
    "    emitted = web3.eth.sendRawTransaction(signed_tx.rawTransaction)\n",
    "\n",
    "\n",
    "\n",
    "\n",
    "schedule.every(30).days.do(DCA())\n",
    "   \n",
    "while True:\n",
    "    schedule.run_pending()\n",
    "    time.sleep(1)\n",
    "\n"
   ]
  }
 ],
 "metadata": {
  "kernelspec": {
   "display_name": "Python 3.10.8 64-bit",
   "language": "python",
   "name": "python3"
  },
  "language_info": {
   "codemirror_mode": {
    "name": "ipython",
    "version": 3
   },
   "file_extension": ".py",
   "mimetype": "text/x-python",
   "name": "python",
   "nbconvert_exporter": "python",
   "pygments_lexer": "ipython3",
   "version": "3.10.8"
  },
  "orig_nbformat": 4,
  "vscode": {
   "interpreter": {
    "hash": "b0fa6594d8f4cbf19f97940f81e996739fb7646882a419484c72d19e05852a7e"
   }
  }
 },
 "nbformat": 4,
 "nbformat_minor": 2
}
