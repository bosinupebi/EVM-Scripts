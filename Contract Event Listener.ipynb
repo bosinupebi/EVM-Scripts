{
 "cells": [
  {
   "cell_type": "code",
   "execution_count": 2,
   "metadata": {},
   "outputs": [],
   "source": [
    "# import the following dependencies\n",
    "import json\n",
    "from web3 import Web3\n",
    "import asyncio\n",
    "import tweepy\n",
    "\n",
    "# add your blockchain connection information\n",
    "wss = \"ws://ethercluster.com/ws\"\n",
    "web3 = Web3(Web3.WebsocketProvider(wss))\n",
    "auth = tweepy.OAuth2BearerHandler(\"\")\n",
    "api = tweepy.API(auth)\n",
    "\n",
    "# ETCPlanets\n",
    "ETCplanets= '0xa7271bE4871403560B9e09a1b250294Ac329Ba28'\n",
    "ETCPpanets_abi = json.loads('[{\"type\":\"constructor\",\"stateMutability\":\"nonpayable\",\"inputs\":[{\"type\":\"string\",\"name\":\"name_\",\"internalType\":\"string\"},{\"type\":\"string\",\"name\":\"symbol_\",\"internalType\":\"string\"},{\"type\":\"address\",\"name\":\"_marketer\",\"internalType\":\"address payable\"}]},{\"type\":\"event\",\"name\":\"AddCollection\",\"inputs\":[{\"type\":\"address\",\"name\":\"contractAddress\",\"internalType\":\"address\",\"indexed\":false},{\"type\":\"address\",\"name\":\"owner\",\"internalType\":\"address\",\"indexed\":false},{\"type\":\"uint256\",\"name\":\"commission\",\"internalType\":\"uint256\",\"indexed\":false}],\"anonymous\":false},{\"type\":\"event\",\"name\":\"BidEntered\",\"inputs\":[{\"type\":\"uint256\",\"name\":\"tokenId\",\"internalType\":\"uint256\",\"indexed\":false},{\"type\":\"address\",\"name\":\"bidder\",\"internalType\":\"address\",\"indexed\":false},{\"type\":\"uint256\",\"name\":\"price\",\"internalType\":\"uint256\",\"indexed\":false}],\"anonymous\":false},{\"type\":\"event\",\"name\":\"BidWithdrawn\",\"inputs\":[{\"type\":\"uint256\",\"name\":\"tokenId\",\"internalType\":\"uint256\",\"indexed\":false},{\"type\":\"uint256\",\"name\":\"value\",\"internalType\":\"uint256\",\"indexed\":false},{\"type\":\"uint256\",\"name\":\"walletAddress\",\"internalType\":\"uint256\",\"indexed\":false}],\"anonymous\":false},{\"type\":\"event\",\"name\":\"BidWithdrawn\",\"inputs\":[{\"type\":\"uint256\",\"name\":\"tokenId\",\"internalType\":\"uint256\",\"indexed\":false},{\"type\":\"uint256\",\"name\":\"bidVal\",\"internalType\":\"uint256\",\"indexed\":false},{\"type\":\"address\",\"name\":\"sender\",\"internalType\":\"address\",\"indexed\":false}],\"anonymous\":false},{\"type\":\"event\",\"name\":\"BoughtBid\",\"inputs\":[{\"type\":\"uint256\",\"name\":\"tokenId\",\"internalType\":\"uint256\",\"indexed\":false},{\"type\":\"uint256\",\"name\":\"value\",\"internalType\":\"uint256\",\"indexed\":false},{\"type\":\"address\",\"name\":\"walletAddressSender\",\"internalType\":\"address\",\"indexed\":false},{\"type\":\"address\",\"name\":\"walletAddressBidder\",\"internalType\":\"address\",\"indexed\":false},{\"type\":\"address\",\"name\":\"contractAddress\",\"internalType\":\"address\",\"indexed\":false}],\"anonymous\":false},{\"type\":\"event\",\"name\":\"ChangeContract\",\"inputs\":[{\"type\":\"address\",\"name\":\"contractAddress\",\"internalType\":\"address\",\"indexed\":false},{\"type\":\"address\",\"name\":\"owner\",\"internalType\":\"address\",\"indexed\":false},{\"type\":\"uint256\",\"name\":\"commission\",\"internalType\":\"uint256\",\"indexed\":false}],\"anonymous\":false},{\"type\":\"event\",\"name\":\"ItemOffered\",\"inputs\":[{\"type\":\"uint256\",\"name\":\"tokenId\",\"internalType\":\"uint256\",\"indexed\":false},{\"type\":\"address\",\"name\":\"contractCollections\",\"internalType\":\"address\",\"indexed\":false},{\"type\":\"uint256\",\"name\":\"price\",\"internalType\":\"uint256\",\"indexed\":false},{\"type\":\"address\",\"name\":\"seller\",\"internalType\":\"address\",\"indexed\":false}],\"anonymous\":false},{\"type\":\"event\",\"name\":\"NoForSale\",\"inputs\":[{\"type\":\"uint256\",\"name\":\"tokenId\",\"internalType\":\"uint256\",\"indexed\":false},{\"type\":\"address\",\"name\":\"contractCollections\",\"internalType\":\"address\",\"indexed\":false}],\"anonymous\":false},{\"type\":\"event\",\"name\":\"OwnershipTransferred\",\"inputs\":[{\"type\":\"address\",\"name\":\"previousOwner\",\"internalType\":\"address\",\"indexed\":true},{\"type\":\"address\",\"name\":\"newOwner\",\"internalType\":\"address\",\"indexed\":true}],\"anonymous\":false},{\"type\":\"function\",\"stateMutability\":\"view\",\"outputs\":[{\"type\":\"bool\",\"name\":\"isExist\",\"internalType\":\"bool\"},{\"type\":\"address\",\"name\":\"contractAddressCollection\",\"internalType\":\"contract IERC721\"},{\"type\":\"address\",\"name\":\"ownerOfCollection\",\"internalType\":\"address\"},{\"type\":\"uint256\",\"name\":\"percentOfCommission\",\"internalType\":\"uint256\"}],\"name\":\"CollectionsContract\",\"inputs\":[{\"type\":\"address\",\"name\":\"\",\"internalType\":\"address\"}]},{\"type\":\"function\",\"stateMutability\":\"view\",\"outputs\":[{\"type\":\"bool\",\"name\":\"hasBid\",\"internalType\":\"bool\"},{\"type\":\"uint256\",\"name\":\"itemIndex\",\"internalType\":\"uint256\"},{\"type\":\"address\",\"name\":\"bidder\",\"internalType\":\"address\"},{\"type\":\"uint256\",\"name\":\"value\",\"internalType\":\"uint256\"}],\"name\":\"ItemBids\",\"inputs\":[{\"type\":\"address\",\"name\":\"\",\"internalType\":\"address\"},{\"type\":\"uint256\",\"name\":\"\",\"internalType\":\"uint256\"}]},{\"type\":\"function\",\"stateMutability\":\"view\",\"outputs\":[{\"type\":\"uint256\",\"name\":\"\",\"internalType\":\"uint256\"}],\"name\":\"MAX_COMMISSION\",\"inputs\":[]},{\"type\":\"function\",\"stateMutability\":\"nonpayable\",\"outputs\":[],\"name\":\"NoLongerForSale\",\"inputs\":[{\"type\":\"uint256\",\"name\":\"tokenId\",\"internalType\":\"uint256\"},{\"type\":\"address\",\"name\":\"_contract\",\"internalType\":\"address\"}]},{\"type\":\"function\",\"stateMutability\":\"view\",\"outputs\":[{\"type\":\"bool\",\"name\":\"isForSale\",\"internalType\":\"bool\"},{\"type\":\"uint256\",\"name\":\"itemIndex\",\"internalType\":\"uint256\"},{\"type\":\"address\",\"name\":\"tokenContract\",\"internalType\":\"contract IERC721\"},{\"type\":\"address\",\"name\":\"seller\",\"internalType\":\"address\"},{\"type\":\"uint256\",\"name\":\"minValue\",\"internalType\":\"uint256\"}],\"name\":\"OfferedForSale\",\"inputs\":[{\"type\":\"address\",\"name\":\"\",\"internalType\":\"address\"},{\"type\":\"uint256\",\"name\":\"\",\"internalType\":\"uint256\"}]},{\"type\":\"function\",\"stateMutability\":\"nonpayable\",\"outputs\":[],\"name\":\"acceptBidForItem\",\"inputs\":[{\"type\":\"uint256\",\"name\":\"tokenId\",\"internalType\":\"uint256\"},{\"type\":\"address\",\"name\":\"_contract\",\"internalType\":\"address\"}]},{\"type\":\"function\",\"stateMutability\":\"nonpayable\",\"outputs\":[],\"name\":\"addCollectionOnlyOwner\",\"inputs\":[{\"type\":\"uint256\",\"name\":\"_commission\",\"internalType\":\"uint256\"},{\"type\":\"address\",\"name\":\"_contract\",\"internalType\":\"address\"},{\"type\":\"address\",\"name\":\"_owner\",\"internalType\":\"address\"}]},{\"type\":\"function\",\"stateMutability\":\"nonpayable\",\"outputs\":[],\"name\":\"addContractERC721\",\"inputs\":[{\"type\":\"address\",\"name\":\"_contract\",\"internalType\":\"address\"},{\"type\":\"uint256\",\"name\":\"_commission\",\"internalType\":\"uint256\"}]},{\"type\":\"function\",\"stateMutability\":\"payable\",\"outputs\":[],\"name\":\"buy\",\"inputs\":[{\"type\":\"uint256\",\"name\":\"tokenId\",\"internalType\":\"uint256\"},{\"type\":\"address\",\"name\":\"_contract\",\"internalType\":\"address\"}]},{\"type\":\"function\",\"stateMutability\":\"nonpayable\",\"outputs\":[],\"name\":\"changeCollectionOnlyOwner\",\"inputs\":[{\"type\":\"address\",\"name\":\"_contract\",\"internalType\":\"address\"},{\"type\":\"uint256\",\"name\":\"_commission\",\"internalType\":\"uint256\"},{\"type\":\"address\",\"name\":\"_owner\",\"internalType\":\"address\"}]},{\"type\":\"function\",\"stateMutability\":\"nonpayable\",\"outputs\":[],\"name\":\"changeCommission\",\"inputs\":[{\"type\":\"address\",\"name\":\"_contract\",\"internalType\":\"address\"},{\"type\":\"uint256\",\"name\":\"_commission\",\"internalType\":\"uint256\"}]},{\"type\":\"function\",\"stateMutability\":\"nonpayable\",\"outputs\":[],\"name\":\"changeMarketUser\",\"inputs\":[{\"type\":\"address\",\"name\":\"_marketer\",\"internalType\":\"address payable\"}]},{\"type\":\"function\",\"stateMutability\":\"nonpayable\",\"outputs\":[],\"name\":\"changepercentage\",\"inputs\":[{\"type\":\"uint256\",\"name\":\"_percentage\",\"internalType\":\"uint256\"}]},{\"type\":\"function\",\"stateMutability\":\"payable\",\"outputs\":[],\"name\":\"enterBidForItem\",\"inputs\":[{\"type\":\"uint256\",\"name\":\"tokenId\",\"internalType\":\"uint256\"},{\"type\":\"address\",\"name\":\"_contract\",\"internalType\":\"address\"}]},{\"type\":\"function\",\"stateMutability\":\"nonpayable\",\"outputs\":[],\"name\":\"max_commissionChange\",\"inputs\":[{\"type\":\"uint256\",\"name\":\"max_commission\",\"internalType\":\"uint256\"}]},{\"type\":\"function\",\"stateMutability\":\"view\",\"outputs\":[{\"type\":\"string\",\"name\":\"\",\"internalType\":\"string\"}],\"name\":\"name\",\"inputs\":[]},{\"type\":\"function\",\"stateMutability\":\"nonpayable\",\"outputs\":[],\"name\":\"offerForSale\",\"inputs\":[{\"type\":\"uint256\",\"name\":\"tokenId\",\"internalType\":\"uint256\"},{\"type\":\"uint256\",\"name\":\"minSalePriceInWei\",\"internalType\":\"uint256\"},{\"type\":\"address\",\"name\":\"_contract\",\"internalType\":\"address\"}]},{\"type\":\"function\",\"stateMutability\":\"view\",\"outputs\":[{\"type\":\"address\",\"name\":\"\",\"internalType\":\"address\"}],\"name\":\"owner\",\"inputs\":[]},{\"type\":\"function\",\"stateMutability\":\"view\",\"outputs\":[{\"type\":\"uint256\",\"name\":\"\",\"internalType\":\"uint256\"}],\"name\":\"pendingWithdrawals\",\"inputs\":[{\"type\":\"address\",\"name\":\"\",\"internalType\":\"address\"}]},{\"type\":\"function\",\"stateMutability\":\"view\",\"outputs\":[{\"type\":\"uint256\",\"name\":\"\",\"internalType\":\"uint256\"}],\"name\":\"percentage\",\"inputs\":[]},{\"type\":\"function\",\"stateMutability\":\"view\",\"outputs\":[{\"type\":\"string\",\"name\":\"\",\"internalType\":\"string\"}],\"name\":\"symbol\",\"inputs\":[]},{\"type\":\"function\",\"stateMutability\":\"nonpayable\",\"outputs\":[],\"name\":\"transferOwnership\",\"inputs\":[{\"type\":\"address\",\"name\":\"newOwner\",\"internalType\":\"address\"}]},{\"type\":\"function\",\"stateMutability\":\"nonpayable\",\"outputs\":[],\"name\":\"withdraw\",\"inputs\":[]},{\"type\":\"function\",\"stateMutability\":\"nonpayable\",\"outputs\":[],\"name\":\"withdrawBidForItem\",\"inputs\":[{\"type\":\"uint256\",\"name\":\"tokenId\",\"internalType\":\"uint256\"},{\"type\":\"address\",\"name\":\"_contract\",\"internalType\":\"address\"}]}]')\n",
    "\n",
    "contract = web3.eth.contract(address=ETCplanets, abi=ETCPpanets_abi)\n",
    "\n",
    "\n",
    "# define function to handle events and print to the console\n",
    "def handle_event(event):\n",
    "    print(Web3.toJSON(event))\n",
    "    client = tweepy.Client(consumer_key='placeholder',\n",
    "                       consumer_secret='placeholder',\n",
    "                       access_token='placeholder',\n",
    "                       access_token_secret='placeholder')\n",
    "    response = client.create_tweet(text='new item for Sale')\n",
    "    print(response)\n",
    "    # and whatever\n",
    "\n",
    "\n",
    "# asynchronous defined function to loop\n",
    "# this loop sets up an event filter and is looking for new entires for the \"ItemOffered\" event\n",
    "# this loop runs on a poll interval\n",
    "async def log_loop(event_filter, poll_interval):\n",
    "    while True:\n",
    "        for ItemOffered in event_filter.get_new_entries():\n",
    "            handle_event(ItemOffered)\n",
    "        await asyncio.sleep(poll_interval)\n",
    "\n",
    "\n",
    "# when main is called\n",
    "# create a filter for the latest block and look for the \"ItemOffered\" event for the ETCPlanets Contract\n",
    "# run an async loop\n",
    "# try to run the log_loop function above every 2 seconds\n",
    "def main():\n",
    "    event_filter = contract.events.ItemOffered.createFilter(fromBlock='latest')\n",
    "    loop = asyncio.get_event_loop()\n",
    "    asyncio.gather(\n",
    "            log_loop(event_filter, 2))\n",
    "\n",
    "\n",
    "\n",
    "if __name__ == \"__main__\":\n",
    "    main()"
   ]
  }
 ],
 "metadata": {
  "kernelspec": {
   "display_name": "Python 3.10.8 64-bit",
   "language": "python",
   "name": "python3"
  },
  "language_info": {
   "codemirror_mode": {
    "name": "ipython",
    "version": 3
   },
   "file_extension": ".py",
   "mimetype": "text/x-python",
   "name": "python",
   "nbconvert_exporter": "python",
   "pygments_lexer": "ipython3",
   "version": "3.10.8"
  },
  "orig_nbformat": 4,
  "vscode": {
   "interpreter": {
    "hash": "b0fa6594d8f4cbf19f97940f81e996739fb7646882a419484c72d19e05852a7e"
   }
  }
 },
 "nbformat": 4,
 "nbformat_minor": 2
}
